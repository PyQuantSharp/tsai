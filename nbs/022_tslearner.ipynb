{
 "cells": [
  {
   "cell_type": "code",
   "execution_count": null,
   "metadata": {},
   "outputs": [],
   "source": [
    "#|default_exp tslearner"
   ]
  },
  {
   "cell_type": "markdown",
   "metadata": {},
   "source": [
    "# TSLearner"
   ]
  },
  {
   "cell_type": "markdown",
   "metadata": {},
   "source": [
    "New set of time series learners with a new sklearn-like API that simplifies the learner creation. The following classes are included: \n",
    "\n",
    "  * TSClassifier\n",
    "  * TSRegressor\n",
    "  * TSForecaster"
   ]
  },
  {
   "cell_type": "code",
   "execution_count": null,
   "metadata": {},
   "outputs": [],
   "source": [
    "#|export\n",
    "from fastai.learner import Learner\n",
    "from fastai.optimizer import Adam\n",
    "from fastai.metrics import accuracy\n",
    "from fastai.losses import *\n",
    "from tsai.imports import *\n",
    "from tsai.learner import *\n",
    "from tsai.data.validation import *\n",
    "from tsai.data.core import *\n",
    "from tsai.models.InceptionTimePlus import *\n",
    "from tsai.models.utils import *\n",
    "from tsai.metrics import *"
   ]
  },
  {
   "attachments": {},
   "cell_type": "markdown",
   "metadata": {},
   "source": [
    "## TSClassifier API\n",
    "***\n",
    "\n",
    "**Commonly used arguments:**\n",
    "    \n",
    "* **X:** array-like of shape (n_samples, n_steps) or (n_samples, n_features, n_steps) with the input time series samples. Internally, they will be converted to torch tensors.\n",
    "* **y:** array-like of shape (n_samples), (n_samples, n_outputs) or (n_samples, n_features, n_outputs) with the target. Internally, they will be converted to torch tensors. Default=None. None is used for unlabeled datasets. \n",
    "* **splits:** lists of indices used to split data between train and validation. Default=None. If no splits are passed, data will be split 100:0 between train and test without shuffling.\n",
    "* **tfms:** item transforms that will be applied to each sample individually. Default:None.\n",
    "* **batch_tfms:** transforms applied to each batch. Default=None. \n",
    "* **pipelines:** store sklearn-type pipelines that can then be applied to pandas dataframes with transform or inverse_transform methods. Default=None. \n",
    "* **bs:** batch size (if batch_size is provided then batch_size will override bs). An int or a list of ints can be passed. Default=`[64, 128]`. If a list of ints, the first one will be used for training, and the second for the valid (batch size can be larger as it doesn't require backpropagation which consumes more memory). \n",
    "* **arch:** indicates which architecture will be used. Alternatively, you can pass an instantiated model. Default: InceptionTimePlus.\n",
    "* **arch_config:** keyword arguments passed to the selected architecture. Default={}.\n",
    "* **pretrained:** indicates if pretrained model weights will be used. Default=False.\n",
    "* **weights_path:** indicates the path to the pretrained weights in case they are used.\n",
    "* **loss_func:** allows you to pass any loss function. Default=None (in which case CrossEntropyLossFlat() is applied).\n",
    "* **opt_func:** allows you to pass an optimizer. Default=Adam.\n",
    "* **lr:** learning rate. Default=0.001.\n",
    "* **metrics:** list of metrics passed to the Learner. Default=accuracy.\n",
    "* **cbs:** list of callbacks passed to the Learner. Default=None.\n",
    "* **wd:** is the default weight decay used when training the model. Default=None.\n",
    "\n",
    "**Less frequently used arguments:**\n",
    "\n",
    "* **sel_vars:** used to select which of the features in multivariate datasets are used. Default=None means all features are used. If necessary a list-like of indices can be used (eg.`[0,3,5]`).\n",
    "* **sel_steps:** used to select the steps used. Default=None means all steps are used. If necessary a list-like of indices can be used (eg. `slice(-50, None)` will select the last 50 steps from each time series).\n",
    "* **s_cat_idxs:** list of indices for static categorical variables\n",
    "* **s_cat_embeddings:** list of num_embeddings for each static categorical variable\n",
    "* **s_cat_embedding_dims:** list of embedding dimensions for each static categorical variable\n",
    "* **s_cont_idxs:** list of indices for static continuous variables\n",
    "* **o_cat_idxs:** list of indices for observed categorical variables\n",
    "* **o_cat_embeddings:** list of num_embeddings for each observed categorical variable\n",
    "* **o_cat_embedding_dims:** list of embedding dimensions for each observed categorical variable\n",
    "* **o_cont_idxs:** list of indices for observed continuous variables\n",
    "* **patch_len:** Number of time steps in each patch.\n",
    "* **patch_stride:** Stride of the patch.\n",
    "* **fusion_layers:** list of layer dimensions for the fusion MLP\n",
    "* **fusion_act:** activation function for the fusion MLP\n",
    "* **fusion_dropout:** dropout probability for the fusion MLP\n",
    "* **fusion_use_bn:** boolean indicating whether to use batch normalization in the fusion MLP\n",
    "* **weights:** indicates a sample weight per instance. Used to pass pass a probability to the train dataloader sampler. Samples with more weight will be selected more often during training. \n",
    "* **partial_n:** select randomly partial quantity of data at each epoch. Used to reduce the training size (for example for testing purposes). int or float can be used.\n",
    "* **vocab:** vocabulary used to transform the target. Only required when transformed is not perform by a dataloader's tfm (external transforms).\n",
    "* **train_metrics:** flag used to display metrics in the training set. Defaults to False.\n",
    "* **valid_metrics:** flag used to display metrics in the validtion set. Defaults to True.\n",
    "* **inplace:** indicates whether tfms are applied during instantiation or on-the-fly. Default=True, which means that tfms will be applied during instantiation. This results in a faster training, but it can only be used when data fits in memory. Otherwise set it to False. \n",
    "* **shuffle_train:** indicates whether to shuffle the training set every time the dataloader is fully read/iterated or not. This doesn't have an impact on the validation set which is never shuffled. Default=True.\n",
    "* **drop_last:** if True the last incomplete training batch is dropped (thus ensuring training batches of equal size). This doesn't have an impact on the validation set where samples are never dropped. Default=True.\n",
    "* **num_workers:** num_workers (int): how many subprocesses to use for data loading. 0 means that the data will be loaded in the main process. Default=0. \n",
    "* **do_setup:** ndicates if the Pipeline.setup method should be called during initialization. Default=True.\n",
    "* **device:** Defaults to default_device() which is CUDA by default. You can specify device as `torch.device('cpu').\n",
    "* **seed:** Set to an int to ensure reprodubibility. Default=None.\n",
    "* **verbose:** controls the verbosity when fitting and predicting.\n",
    "* **exclude_head:** indicates whether the head of the pretrained model needs to be removed or not. Default=True.\n",
    "* **cut:** indicates the position where the pretrained model head needs to be cut. Defaults=-1.\n",
    "* **init:** allows you to set to None (no initialization applied), set to True (in which case nn.init.kaiming_normal_ will be applied) or pass an initialization. Default=None.\n",
    "* **splitter:** To do transfer learning, you need to pass a splitter to Learner. This should be a function taking the model and returning a collection of parameter groups, e.g. a list of list of parameters. Default=trainable_params. If the model has a backbone and a head, it will then be split in those 2 groups.\n",
    "* **path** and **model_dir:** are used to save and/or load models. Often path will be inferred from dls, but you can override it or pass a Path object to model_dir.\n",
    "* **wd_bn_bias:** controls if weight decay is applied to BatchNorm layers and bias. Default=False.\n",
    "train_bn=True\n",
    "* **moms:** the default momentums used in Learner.fit_one_cycle. Default=(0.95, 0.85, 0.95)."
   ]
  },
  {
   "cell_type": "code",
   "execution_count": null,
   "metadata": {},
   "outputs": [],
   "source": [
    "#|export\n",
    "class TSClassifier(Learner):\n",
    "    def __init__(self, X, y=None, splits=None, tfms=None, inplace=True, sel_vars=None, sel_steps=None,\n",
    "                 s_cat_idxs=None, s_cat_embeddings=None, s_cat_embedding_dims=None, s_cont_idxs=None,\n",
    "                 o_cat_idxs=None, o_cat_embeddings=None, o_cat_embedding_dims=None, o_cont_idxs=None,\n",
    "                 patch_len=None, patch_stride=None, fusion_layers=128, fusion_act='relu', fusion_dropout=0., fusion_use_bn=True,\n",
    "                 weights=None, partial_n=None, vocab=None,\n",
    "                 train_metrics=False, valid_metrics=True, bs=[64, 128], batch_size=None, batch_tfms=None, pipelines=None,\n",
    "                 shuffle_train=True, drop_last=True, num_workers=0, do_setup=True, device=None, seed=None,\n",
    "                 arch=None, arch_config={}, pretrained=False, weights_path=None, exclude_head=True, cut=-1, init=None,\n",
    "                 loss_func=None, opt_func=Adam, lr=0.001, metrics=accuracy, cbs=None, wd=None, wd_bn_bias=False,\n",
    "                 train_bn=True, moms=(0.95, 0.85, 0.95),  path='.', model_dir='models', splitter=trainable_params, verbose=False):\n",
    "\n",
    "        # Seed\n",
    "        if seed is not None:\n",
    "            set_seed(seed, reproducible=True)\n",
    "\n",
    "        # Batch size\n",
    "        if batch_size is not None:\n",
    "            bs = batch_size\n",
    "\n",
    "        # DataLoaders\n",
    "        dls = get_ts_dls(X, y=y, splits=splits, sel_vars=sel_vars, sel_steps=sel_steps, tfms=tfms, inplace=inplace, vocab=vocab,\n",
    "                         path=path, bs=bs, batch_tfms=batch_tfms, num_workers=num_workers, weights=weights, partial_n=partial_n,\n",
    "                         device=device, shuffle_train=shuffle_train, drop_last=drop_last)\n",
    "\n",
    "        if loss_func is None:\n",
    "            if hasattr(dls, 'loss_func'): loss_func = dls.loss_func\n",
    "            elif hasattr(dls, 'cat') and not dls.cat: loss_func = MSELossFlat()\n",
    "            elif hasattr(dls, 'train_ds') and hasattr(dls.train_ds, 'loss_func'): loss_func = dls.train_ds.loss_func\n",
    "            else: loss_func = CrossEntropyLossFlat()\n",
    "\n",
    "        # Model\n",
    "        if isinstance(arch, nn.Module):\n",
    "            model = arch\n",
    "            if arch_config:\n",
    "                warnings.warn(\"You have passed arch_config to a model that is already intantiated. It will not have any effect.\", UserWarning)\n",
    "            if init is not None:\n",
    "                warnings.warn(\"You have passed init to a model that is already intantiated. It will not have any effect.\", UserWarning)\n",
    "        else:\n",
    "            if init is True:\n",
    "                init = nn.init.kaiming_normal_\n",
    "            if arch is None:\n",
    "                arch = InceptionTimePlus\n",
    "            elif isinstance(arch, str): arch = get_arch(arch)\n",
    "            # if 'xresnet' in arch.__name__.lower() and not '1d' in arch.__name__.lower():\n",
    "            #     model = build_tsimage_model(arch, dls=dls, pretrained=pretrained, init=init, device=device, verbose=verbose, arch_config=arch_config)\n",
    "            # elif 'tabularmodel' in arch.__name__.lower():\n",
    "            #     model = build_tabular_model(arch, dls=dls, device=device, arch_config=arch_config)\n",
    "            # else:\n",
    "            #     model = build_ts_model(arch, dls=dls, device=device, verbose=verbose, pretrained=pretrained, weights_path=weights_path,\n",
    "            #                            exclude_head=exclude_head, cut=cut, init=init, arch_config=arch_config)\n",
    "            model = build_ts_model(arch, dls=dls,\n",
    "                                   s_cat_idxs=s_cat_idxs, s_cat_embeddings=s_cat_embeddings, s_cat_embedding_dims=s_cat_embedding_dims, s_cont_idxs=s_cont_idxs,\n",
    "                                   o_cat_idxs=o_cat_idxs, o_cat_embeddings=o_cat_embeddings, o_cat_embedding_dims=o_cat_embedding_dims, o_cont_idxs=o_cont_idxs,\n",
    "                                   patch_len=patch_len, patch_stride=patch_stride,\n",
    "                                   fusion_layers=fusion_layers, fusion_act=fusion_act, fusion_dropout=fusion_dropout, fusion_use_bn=fusion_use_bn,\n",
    "                                   device=device, verbose=verbose, pretrained=pretrained, weights_path=weights_path,\n",
    "                                   exclude_head=exclude_head, cut=cut, init=init, arch_config=arch_config)\n",
    "        try:\n",
    "            setattr(model, \"__name__\", arch.__name__)\n",
    "        except:\n",
    "            setattr(model, \"__name__\", arch.__class__.__name__)\n",
    "\n",
    "        if hasattr(model, \"backbone\") and hasattr(model, \"head\"):\n",
    "            splitter = ts_splitter\n",
    "\n",
    "        if pipelines is not None:\n",
    "            pipelines = listify(pipelines)\n",
    "        setattr(self, \"pipelines\", pipelines)\n",
    "\n",
    "        super().__init__(dls, model, loss_func=loss_func, opt_func=opt_func, lr=lr, cbs=cbs, metrics=metrics, path=path, splitter=splitter,\n",
    "                         model_dir=model_dir, wd=wd, wd_bn_bias=wd_bn_bias, train_bn=train_bn, moms=moms)\n",
    "\n",
    "        if hasattr(self, \"recorder\"):\n",
    "            self.recorder.train_metrics = train_metrics\n",
    "            if splits is None or not hasattr(splits[0], \"__len__\") or len(splits) == 1 or \\\n",
    "                (len(splits) >= 2 and (splits[1] is None or not hasattr(splits[1], \"__len__\"))):\n",
    "                self.recorder.valid_metrics = False\n",
    "            else:\n",
    "                self.recorder.valid_metrics = valid_metrics"
   ]
  },
  {
   "cell_type": "code",
   "execution_count": null,
   "metadata": {},
   "outputs": [],
   "source": [
    "from tsai.data.external import *\n",
    "from tsai.data.preprocessing import *\n",
    "from tsai.models.InceptionTimePlus import *"
   ]
  },
  {
   "cell_type": "code",
   "execution_count": null,
   "metadata": {},
   "outputs": [
    {
     "data": {
      "text/html": [
       "\n",
       "<style>\n",
       "    /* Turns off some styling */\n",
       "    progress {\n",
       "        /* gets rid of default border in Firefox and Opera. */\n",
       "        border: none;\n",
       "        /* Needs to be in here for Safari polyfill so background images work as expected. */\n",
       "        background-size: auto;\n",
       "    }\n",
       "    progress:not([value]), progress:not([value])::-webkit-progress-bar {\n",
       "        background: repeating-linear-gradient(45deg, #7e7e7e, #7e7e7e 10px, #5c5c5c 10px, #5c5c5c 20px);\n",
       "    }\n",
       "    .progress-bar-interrupted, .progress-bar-interrupted::-webkit-progress-bar {\n",
       "        background: #F44336;\n",
       "    }\n",
       "</style>\n"
      ],
      "text/plain": [
       "<IPython.core.display.HTML object>"
      ]
     },
     "metadata": {},
     "output_type": "display_data"
    },
    {
     "data": {
      "text/html": [
       "<table border=\"1\" class=\"dataframe\">\n",
       "  <thead>\n",
       "    <tr style=\"text-align: left;\">\n",
       "      <th>epoch</th>\n",
       "      <th>train_loss</th>\n",
       "      <th>train_accuracy</th>\n",
       "      <th>valid_loss</th>\n",
       "      <th>valid_accuracy</th>\n",
       "      <th>time</th>\n",
       "    </tr>\n",
       "  </thead>\n",
       "  <tbody>\n",
       "    <tr>\n",
       "      <td>0</td>\n",
       "      <td>1.458827</td>\n",
       "      <td>0.300000</td>\n",
       "      <td>1.362652</td>\n",
       "      <td>0.300000</td>\n",
       "      <td>00:02</td>\n",
       "    </tr>\n",
       "  </tbody>\n",
       "</table>"
      ],
      "text/plain": [
       "<IPython.core.display.HTML object>"
      ]
     },
     "metadata": {},
     "output_type": "display_data"
    }
   ],
   "source": [
    "# With validation split\n",
    "X, y, splits = get_classification_data('OliveOil', split_data=False)\n",
    "tfms = [None, TSClassification()]\n",
    "batch_tfms = [TSStandardize(by_sample=True)]\n",
    "learn = TSClassifier(X, y, splits=splits, tfms=tfms, batch_tfms=batch_tfms, metrics=accuracy, arch=InceptionTimePlus, arch_config=dict(fc_dropout=.5),\n",
    "                     train_metrics=True)\n",
    "learn.fit_one_cycle(1)"
   ]
  },
  {
   "cell_type": "code",
   "execution_count": null,
   "metadata": {},
   "outputs": [
    {
     "data": {
      "text/html": [
       "\n",
       "<style>\n",
       "    /* Turns off some styling */\n",
       "    progress {\n",
       "        /* gets rid of default border in Firefox and Opera. */\n",
       "        border: none;\n",
       "        /* Needs to be in here for Safari polyfill so background images work as expected. */\n",
       "        background-size: auto;\n",
       "    }\n",
       "    progress:not([value]), progress:not([value])::-webkit-progress-bar {\n",
       "        background: repeating-linear-gradient(45deg, #7e7e7e, #7e7e7e 10px, #5c5c5c 10px, #5c5c5c 20px);\n",
       "    }\n",
       "    .progress-bar-interrupted, .progress-bar-interrupted::-webkit-progress-bar {\n",
       "        background: #F44336;\n",
       "    }\n",
       "</style>\n"
      ],
      "text/plain": [
       "<IPython.core.display.HTML object>"
      ]
     },
     "metadata": {},
     "output_type": "display_data"
    },
    {
     "data": {
      "text/html": [
       "<table border=\"1\" class=\"dataframe\">\n",
       "  <thead>\n",
       "    <tr style=\"text-align: left;\">\n",
       "      <th>epoch</th>\n",
       "      <th>train_loss</th>\n",
       "      <th>accuracy</th>\n",
       "      <th>time</th>\n",
       "    </tr>\n",
       "  </thead>\n",
       "  <tbody>\n",
       "    <tr>\n",
       "      <td>0</td>\n",
       "      <td>1.457477</td>\n",
       "      <td>0.200000</td>\n",
       "      <td>00:01</td>\n",
       "    </tr>\n",
       "  </tbody>\n",
       "</table>"
      ],
      "text/plain": [
       "<IPython.core.display.HTML object>"
      ]
     },
     "metadata": {},
     "output_type": "display_data"
    }
   ],
   "source": [
    "# Without validation split\n",
    "X, y, splits = get_classification_data('OliveOil', split_data=False)\n",
    "splits = (splits[0], None)\n",
    "tfms = [None, TSClassification()]\n",
    "batch_tfms = [TSStandardize(by_sample=True)]\n",
    "learn = TSClassifier(X, y, splits=splits, tfms=tfms, batch_tfms=batch_tfms, metrics=accuracy, arch=InceptionTimePlus, arch_config=dict(fc_dropout=.5),\n",
    "                     train_metrics=True)\n",
    "learn.fit_one_cycle(1)"
   ]
  },
  {
   "cell_type": "code",
   "execution_count": null,
   "metadata": {},
   "outputs": [
    {
     "data": {
      "text/html": [
       "\n",
       "<style>\n",
       "    /* Turns off some styling */\n",
       "    progress {\n",
       "        /* gets rid of default border in Firefox and Opera. */\n",
       "        border: none;\n",
       "        /* Needs to be in here for Safari polyfill so background images work as expected. */\n",
       "        background-size: auto;\n",
       "    }\n",
       "    progress:not([value]), progress:not([value])::-webkit-progress-bar {\n",
       "        background: repeating-linear-gradient(45deg, #7e7e7e, #7e7e7e 10px, #5c5c5c 10px, #5c5c5c 20px);\n",
       "    }\n",
       "    .progress-bar-interrupted, .progress-bar-interrupted::-webkit-progress-bar {\n",
       "        background: #F44336;\n",
       "    }\n",
       "</style>\n"
      ],
      "text/plain": [
       "<IPython.core.display.HTML object>"
      ]
     },
     "metadata": {},
     "output_type": "display_data"
    },
    {
     "data": {
      "text/html": [
       "<table border=\"1\" class=\"dataframe\">\n",
       "  <thead>\n",
       "    <tr style=\"text-align: left;\">\n",
       "      <th>epoch</th>\n",
       "      <th>train_loss</th>\n",
       "      <th>valid_loss</th>\n",
       "      <th>accuracy</th>\n",
       "      <th>time</th>\n",
       "    </tr>\n",
       "  </thead>\n",
       "  <tbody>\n",
       "    <tr>\n",
       "      <td>0</td>\n",
       "      <td>0.749274</td>\n",
       "      <td>0.721294</td>\n",
       "      <td>0.666667</td>\n",
       "      <td>00:00</td>\n",
       "    </tr>\n",
       "  </tbody>\n",
       "</table>"
      ],
      "text/plain": [
       "<IPython.core.display.HTML object>"
      ]
     },
     "metadata": {},
     "output_type": "display_data"
    }
   ],
   "source": [
    "num_classes = 2\n",
    "X = np.random.rand(16, 5, 128)\n",
    "y = np.random.randint(0, num_classes, (16, 3))\n",
    "splits = RandomSplitter()(range_of(X))\n",
    "arch = 'TSiTPlus'\n",
    "vocab = np.arange(num_classes)\n",
    "learn = TSClassifier(X, y, splits=splits, arch=arch, metrics=accuracy, vocab=vocab, device=default_device())\n",
    "learn.fit_one_cycle(1, 1e-3)"
   ]
  },
  {
   "cell_type": "code",
   "execution_count": null,
   "metadata": {},
   "outputs": [
    {
     "name": "stdout",
     "output_type": "stream",
     "text": [
      "torch.Size([8, 2, 50]) torch.Size([8, 7])\n"
     ]
    }
   ],
   "source": [
    "num_classes = 5\n",
    "X = torch.rand(8, 2, 50)\n",
    "y = torch.randint(0, num_classes, (len(X), 7))\n",
    "print(X.shape, y.shape)\n",
    "splits = TimeSplitter(show_plot=False)(y)\n",
    "vocab = np.arange(num_classes)\n",
    "\n",
    "fail_test = []\n",
    "for arch in all_arch_names:\n",
    "    if not \"plus\" in arch.lower(): continue\n",
    "    try:\n",
    "        learn = TSClassifier(X, y, splits=splits, arch=arch, metrics=accuracy, vocab=vocab, device=default_device())\n",
    "        with ContextManagers([learn.no_bar(), learn.no_logging()]):\n",
    "            learn.fit_one_cycle(1, 1e-3)\n",
    "        del learn\n",
    "        gc.collect()\n",
    "    except Exception as e:\n",
    "        fail_test.append(arch)\n",
    "        print(arch, e)\n",
    "\n",
    "test_eq(fail_test, [])"
   ]
  },
  {
   "attachments": {},
   "cell_type": "markdown",
   "metadata": {},
   "source": [
    "## TSRegressor API\n",
    "***\n",
    "\n",
    "**Commonly used arguments:**\n",
    "    \n",
    "* **X:** array-like of shape (n_samples, n_steps) or (n_samples, n_features, n_steps) with the input time series samples. Internally, they will be converted to torch tensors.\n",
    "* **y:** array-like of shape (n_samples), (n_samples, n_outputs) or (n_samples, n_features, n_outputs) with the target. Internally, they will be converted to torch tensors. Default=None. None is used for unlabeled datasets. \n",
    "* **splits:** lists of indices used to split data between train and validation. Default=None. If no splits are passed, data will be split 100:0 between train and test without shuffling.\n",
    "* **tfms:** item transforms that will be applied to each sample individually. Default=None.\n",
    "* **batch_tfms:** transforms applied to each batch. Default=None. \n",
    "* **pipelines:** store sklearn-type pipelines that can then be applied to pandas dataframes with transform or inverse_transform methods. Default=None. \n",
    "* **bs:** batch size (if batch_size is provided then batch_size will override bs). An int or a list of ints can be passed. Default=`[64, 128]`. If a list of ints, the first one will be used for training, and the second for the valid (batch size can be larger as it doesn't require backpropagation which consumes more memory). \n",
    "* **arch:** indicates which architecture will be used. Alternatively, you can pass an instantiated model. Default: InceptionTimePlus.\n",
    "* **arch_config:** keyword arguments passed to the selected architecture. Default={}.\n",
    "* **pretrained:** indicates if pretrained model weights will be used. Default=False.\n",
    "* **weights_path:** indicates the path to the pretrained weights in case they are used.\n",
    "* **loss_func:** allows you to pass any loss function. Default=None (in which case CrossEntropyLossFlat() is applied).\n",
    "* **opt_func:** allows you to pass an optimizer. Default=Adam.\n",
    "* **lr:** learning rate. Default=0.001.\n",
    "* **metrics:** list of metrics passed to the Learner. Default=None.\n",
    "* **cbs:** list of callbacks passed to the Learner. Default=None.\n",
    "* **wd:** is the default weight decay used when training the model. Default=None.\n",
    "\n",
    "**Less frequently used arguments:**\n",
    "\n",
    "* **sel_vars:** used to select which of the features in multivariate datasets are used. Default=None means all features are used. If necessary a list-like of indices can be used (eg.`[0,3,5]`).\n",
    "* **sel_steps:** used to select the steps used. Default=None means all steps are used. If necessary a list-like of indices can be used (eg. `slice(-50, None)` will select the last 50 steps from each time series).\n",
    "* **s_cat_idxs:** list of indices for static categorical variables\n",
    "* **s_cat_embeddings:** list of num_embeddings for each static categorical variable\n",
    "* **s_cat_embedding_dims:** list of embedding dimensions for each static categorical variable\n",
    "* **s_cont_idxs:** list of indices for static continuous variables\n",
    "* **o_cat_idxs:** list of indices for observed categorical variables\n",
    "* **o_cat_embeddings:** list of num_embeddings for each observed categorical variable\n",
    "* **o_cat_embedding_dims:** list of embedding dimensions for each observed categorical variable\n",
    "* **o_cont_idxs:** list of indices for observed continuous variables\n",
    "* **patch_len:** Number of time steps in each patch.\n",
    "* **patch_stride:** Stride of the patch.\n",
    "* **fusion_layers:** list of layer dimensions for the fusion MLP\n",
    "* **fusion_act:** activation function for the fusion MLP\n",
    "* **fusion_dropout:** dropout probability for the fusion MLP\n",
    "* **fusion_use_bn:** boolean indicating whether to use batch normalization in the fusion MLP\n",
    "* **weights:** indicates a sample weight per instance. Used to pass pass a probability to the train dataloader sampler. Samples with more weight will be selected more often during training. \n",
    "* **partial_n:** select randomly partial quantity of data at each epoch. Used to reduce the training size (for example for testing purposes). int or float can be used.\n",
    "* **train_metrics:** flag used to display metrics in the training set. Defaults to False.\n",
    "* **valid_metrics:** flag used to display metrics in the validtion set. Defaults to True.\n",
    "* **inplace:** indicates whether tfms are applied during instantiation or on-the-fly. Default=True, which means that tfms will be applied during instantiation. This results in a faster training, but it can only be used when data fits in memory. Otherwise set it to False. \n",
    "* **shuffle_train:** indicates whether to shuffle the training set every time the dataloader is fully read/iterated or not. This doesn't have an impact on the validation set which is never shuffled. Default=True.\n",
    "* **drop_last:** if True the last incomplete training batch is dropped (thus ensuring training batches of equal size). This doesn't have an impact on the validation set where samples are never dropped. Default=True.\n",
    "* **num_workers:** num_workers (int): how many subprocesses to use for data loading. 0 means that the data will be loaded in the main process. Default=0. \n",
    "* **do_setup:** ndicates if the Pipeline.setup method should be called during initialization. Default=True.\n",
    "* **device:** Defaults to default_device() which is CUDA by default. You can specify device as `torch.device('cpu').\n",
    "* **seed:** Set to an int to ensure reprodubibility. Default=None.\n",
    "* **verbose:** controls the verbosity when fitting and predicting.\n",
    "* **exclude_head:** indicates whether the head of the pretrained model needs to be removed or not. Default=True.\n",
    "* **cut:** indicates the position where the pretrained model head needs to be cut. Defaults=-1.\n",
    "* **init:** allows you to set to None (no initialization applied), set to True (in which case nn.init.kaiming_normal_ will be applied) or pass an initialization. Default=None.\n",
    "* **splitter:** To do transfer learning, you need to pass a splitter to Learner. This should be a function taking the model and returning a collection of parameter groups, e.g. a list of list of parameters. Default=trainable_params. If the model has a backbone and a head, it will then be split in those 2 groups.\n",
    "* **path** and **model_dir:** are used to save and/or load models. Often path will be inferred from dls, but you can override it or pass a Path object to model_dir.\n",
    "* **wd_bn_bias:** controls if weight decay is applied to BatchNorm layers and bias. Default=False.\n",
    "train_bn=True\n",
    "* **moms:** the default momentums used in Learner.fit_one_cycle. Default=(0.95, 0.85, 0.95)."
   ]
  },
  {
   "cell_type": "code",
   "execution_count": null,
   "metadata": {},
   "outputs": [],
   "source": [
    "#|export\n",
    "class TSRegressor(Learner):\n",
    "    def __init__(self, X, y=None, splits=None, tfms=None, inplace=True, sel_vars=None, sel_steps=None,\n",
    "                 s_cat_idxs=None, s_cat_embeddings=None, s_cat_embedding_dims=None, s_cont_idxs=None,\n",
    "                 o_cat_idxs=None, o_cat_embeddings=None, o_cat_embedding_dims=None, o_cont_idxs=None,\n",
    "                 patch_len=None, patch_stride=None, fusion_layers=128, fusion_act='relu', fusion_dropout=0., fusion_use_bn=True,\n",
    "                 weights=None, partial_n=None,\n",
    "                 train_metrics=False, valid_metrics=True, bs=[64, 128], batch_size=None, batch_tfms=None, pipelines=None,\n",
    "                 shuffle_train=True, drop_last=True, num_workers=0, do_setup=True, device=None, seed=None,\n",
    "                 arch=None, arch_config={}, pretrained=False, weights_path=None, exclude_head=True, cut=-1, init=None,\n",
    "                 loss_func=None, opt_func=Adam, lr=0.001, metrics=None, cbs=None, wd=None, wd_bn_bias=False,\n",
    "                 train_bn=True, moms=(0.95, 0.85, 0.95),  path='.', model_dir='models', splitter=trainable_params, verbose=False):\n",
    "\n",
    "        # Seed\n",
    "        if seed is not None:\n",
    "            set_seed(seed, reproducible=True)\n",
    "\n",
    "\n",
    "        # Batch size\n",
    "        if batch_size is not None:\n",
    "            bs = batch_size\n",
    "\n",
    "        # DataLoaders\n",
    "        dls = get_ts_dls(X, y=y, splits=splits, sel_vars=sel_vars, sel_steps=sel_steps, tfms=tfms, inplace=inplace,\n",
    "                         path=path, bs=bs, batch_tfms=batch_tfms, num_workers=num_workers, weights=weights, partial_n=partial_n,\n",
    "                         device=device, shuffle_train=shuffle_train, drop_last=drop_last)\n",
    "\n",
    "        if loss_func is None:\n",
    "            if hasattr(dls, 'loss_func'): loss_func = dls.loss_func\n",
    "            elif hasattr(dls, 'cat') and not dls.cat: loss_func = MSELossFlat()\n",
    "            elif hasattr(dls, 'train_ds') and hasattr(dls.train_ds, 'loss_func'): loss_func = dls.train_ds.loss_func\n",
    "            else: loss_func = MSELossFlat()\n",
    "\n",
    "        # Model\n",
    "        if isinstance(arch, nn.Module):\n",
    "            model = arch\n",
    "            if arch_config:\n",
    "                warnings.warn(\"You have passed arch_config to a model that is already intantiated. It will not have any effect.\", UserWarning)\n",
    "            if init is not None:\n",
    "                warnings.warn(\"You have passed init to a model that is already intantiated. It will not have any effect.\", UserWarning)\n",
    "        else:\n",
    "            if init is True:\n",
    "                init = nn.init.kaiming_normal_\n",
    "            if arch is None:\n",
    "                arch = InceptionTimePlus\n",
    "            elif isinstance(arch, str): arch = get_arch(arch)\n",
    "            # if 'xresnet' in arch.__name__.lower() and not '1d' in arch.__name__.lower():\n",
    "            #     model = build_tsimage_model(arch, dls=dls, pretrained=pretrained, init=init, device=device, verbose=verbose, arch_config=arch_config)\n",
    "            # elif 'tabularmodel' in arch.__name__.lower():\n",
    "            #     model = build_tabular_model(arch, dls=dls, device=device, arch_config=arch_config)\n",
    "            # else:\n",
    "            #     model = build_ts_model(arch, dls=dls, device=device, verbose=verbose, pretrained=pretrained, weights_path=weights_path,\n",
    "            #                        exclude_head=exclude_head, cut=cut, init=init, arch_config=arch_config)\n",
    "            model = build_ts_model(arch, dls=dls,\n",
    "                                   s_cat_idxs=s_cat_idxs, s_cat_embeddings=s_cat_embeddings, s_cat_embedding_dims=s_cat_embedding_dims, s_cont_idxs=s_cont_idxs,\n",
    "                                   o_cat_idxs=o_cat_idxs, o_cat_embeddings=o_cat_embeddings, o_cat_embedding_dims=o_cat_embedding_dims, o_cont_idxs=o_cont_idxs,\n",
    "                                   patch_len=patch_len, patch_stride=patch_stride,\n",
    "                                   fusion_layers=fusion_layers, fusion_act=fusion_act, fusion_dropout=fusion_dropout, fusion_use_bn=fusion_use_bn,\n",
    "                                   device=device, verbose=verbose, pretrained=pretrained, weights_path=weights_path,\n",
    "                                   exclude_head=exclude_head, cut=cut, init=init, arch_config=arch_config)\n",
    "        try:\n",
    "            setattr(model, \"__name__\", arch.__name__)\n",
    "        except:\n",
    "            setattr(model, \"__name__\", arch.__class__.__name__)\n",
    "\n",
    "        if hasattr(model, \"backbone\") and hasattr(model, \"head\"):\n",
    "            splitter = ts_splitter\n",
    "\n",
    "        if pipelines is not None:\n",
    "            pipelines = listify(pipelines)\n",
    "        setattr(self, \"pipelines\", pipelines)\n",
    "\n",
    "        super().__init__(dls, model, loss_func=loss_func, opt_func=opt_func, lr=lr, cbs=cbs, metrics=metrics, path=path, splitter=splitter,\n",
    "                         model_dir=model_dir, wd=wd, wd_bn_bias=wd_bn_bias, train_bn=train_bn, moms=moms)\n",
    "\n",
    "        if hasattr(self, \"recorder\"):\n",
    "            self.recorder.train_metrics = train_metrics\n",
    "            if splits is None or not hasattr(splits[0], \"__len__\") or len(splits) == 1 or \\\n",
    "                (len(splits) >= 2 and (splits[1] is None or not hasattr(splits[1], \"__len__\"))):\n",
    "                self.recorder.valid_metrics = False\n",
    "            else:\n",
    "                self.recorder.valid_metrics = valid_metrics"
   ]
  },
  {
   "cell_type": "code",
   "execution_count": null,
   "metadata": {},
   "outputs": [
    {
     "data": {
      "text/html": [
       "\n",
       "<style>\n",
       "    /* Turns off some styling */\n",
       "    progress {\n",
       "        /* gets rid of default border in Firefox and Opera. */\n",
       "        border: none;\n",
       "        /* Needs to be in here for Safari polyfill so background images work as expected. */\n",
       "        background-size: auto;\n",
       "    }\n",
       "    progress:not([value]), progress:not([value])::-webkit-progress-bar {\n",
       "        background: repeating-linear-gradient(45deg, #7e7e7e, #7e7e7e 10px, #5c5c5c 10px, #5c5c5c 20px);\n",
       "    }\n",
       "    .progress-bar-interrupted, .progress-bar-interrupted::-webkit-progress-bar {\n",
       "        background: #F44336;\n",
       "    }\n",
       "</style>\n"
      ],
      "text/plain": [
       "<IPython.core.display.HTML object>"
      ]
     },
     "metadata": {},
     "output_type": "display_data"
    },
    {
     "data": {
      "text/html": [
       "<table border=\"1\" class=\"dataframe\">\n",
       "  <thead>\n",
       "    <tr style=\"text-align: left;\">\n",
       "      <th>epoch</th>\n",
       "      <th>train_loss</th>\n",
       "      <th>train_mae</th>\n",
       "      <th>valid_loss</th>\n",
       "      <th>valid_mae</th>\n",
       "      <th>time</th>\n",
       "    </tr>\n",
       "  </thead>\n",
       "  <tbody>\n",
       "    <tr>\n",
       "      <td>0</td>\n",
       "      <td>204.070648</td>\n",
       "      <td>13.636603</td>\n",
       "      <td>199.854218</td>\n",
       "      <td>13.712566</td>\n",
       "      <td>00:01</td>\n",
       "    </tr>\n",
       "  </tbody>\n",
       "</table>"
      ],
      "text/plain": [
       "<IPython.core.display.HTML object>"
      ]
     },
     "metadata": {},
     "output_type": "display_data"
    }
   ],
   "source": [
    "X, y, splits = get_regression_data('AppliancesEnergy', split_data=False)\n",
    "if X is not None: # This is to prevent a test fail when the data server is not available\n",
    "    X = X.astype('float32')\n",
    "    y = y.astype('float32')\n",
    "    batch_tfms = [TSStandardize()]\n",
    "    learn = TSRegressor(X, y, splits=splits, batch_tfms=batch_tfms, arch=None, metrics=mae, bs=512, train_metrics=True, device=default_device())\n",
    "    learn.fit_one_cycle(1, 1e-4)"
   ]
  },
  {
   "attachments": {},
   "cell_type": "markdown",
   "metadata": {},
   "source": [
    "## TSForecaster API\n",
    "***\n",
    "**Commonly used arguments:**\n",
    "    \n",
    "* **X:** array-like of shape (n_samples, n_steps) or (n_samples, n_features, n_steps) with the input time series samples. Internally, they will be converted to torch tensors.\n",
    "* **y:** array-like of shape (n_samples), (n_samples, n_outputs) or (n_samples, n_features, n_outputs) with the target. Internally, they will be converted to torch tensors. Default=None. None is used for unlabeled datasets. \n",
    "* **splits:** lists of indices used to split data between train and validation. Default=None. If no splits are passed, data will be split 100:0 between train and test without shuffling.\n",
    "* **tfms:** item transforms that will be applied to each sample individually. Default=None.\n",
    "* **batch_tfms:** transforms applied to each batch. Default=None. \n",
    "* **pipelines:** store sklearn-type pipelines that can then be applied to pandas dataframes with transform or inverse_transform methods. Default=None. \n",
    "* **bs:** batch size (if batch_size is provided then batch_size will override bs). An int or a list of ints can be passed. Default=`[64, 128]`. If a list of ints, the first one will be used for training, and the second for the valid (batch size can be larger as it doesn't require backpropagation which consumes more memory). \n",
    "* **arch:** indicates which architecture will be used. Alternatively, you can pass an instantiated model. Default: InceptionTimePlus.\n",
    "* **arch_config:** keyword arguments passed to the selected architecture. Default={}.\n",
    "* **pretrained:** indicates if pretrained model weights will be used. Default=False.\n",
    "* **weights_path:** indicates the path to the pretrained weights in case they are used.\n",
    "* **loss_func:** allows you to pass any loss function. Default=None (in which case CrossEntropyLossFlat() is applied).\n",
    "* **opt_func:** allows you to pass an optimizer. Default=Adam.\n",
    "* **lr:** learning rate. Default=0.001.\n",
    "* **metrics:** list of metrics passed to the Learner. Default=None.\n",
    "* **cbs:** list of callbacks passed to the Learner. Default=None.\n",
    "* **wd:** is the default weight decay used when training the model. Default=None.\n",
    "\n",
    "**Less frequently used arguments:**\n",
    "\n",
    "* **sel_vars:** used to select which of the features in multivariate datasets are used. Default=None means all features are used. If necessary a list-like of indices can be used (eg.`[0,3,5]`).\n",
    "* **sel_steps:** used to select the steps used. Default=None means all steps are used. If necessary a list-like of indices can be used (eg. `slice(-50, None)` will select the last 50 steps from each time series).\n",
    "* **s_cat_idxs:** list of indices for static categorical variables\n",
    "* **s_cat_embeddings:** list of num_embeddings for each static categorical variable\n",
    "* **s_cat_embedding_dims:** list of embedding dimensions for each static categorical variable\n",
    "* **s_cont_idxs:** list of indices for static continuous variables\n",
    "* **o_cat_idxs:** list of indices for observed categorical variables\n",
    "* **o_cat_embeddings:** list of num_embeddings for each observed categorical variable\n",
    "* **o_cat_embedding_dims:** list of embedding dimensions for each observed categorical variable\n",
    "* **o_cont_idxs:** list of indices for observed continuous variables\n",
    "* **patch_len:** Number of time steps in each patch.\n",
    "* **patch_stride:** Stride of the patch.\n",
    "* **fusion_layers:** list of layer dimensions for the fusion MLP\n",
    "* **fusion_act:** activation function for the fusion MLP\n",
    "* **fusion_dropout:** dropout probability for the fusion MLP\n",
    "* **fusion_use_bn:** boolean indicating whether to use batch normalization in the fusion MLP\n",
    "* **weights:** indicates a sample weight per instance. Used to pass pass a probability to the train dataloader sampler. Samples with more weight will be selected more often during training. \n",
    "* **partial_n:** select randomly partial quantity of data at each epoch. Used to reduce the training size (for example for testing purposes). int or float can be used.\n",
    "* **train_metrics:** flag used to display metrics in the training set. Defaults to False.\n",
    "* **valid_metrics:** flag used to display metrics in the validtion set. Defaults to True.\n",
    "* **inplace:** indicates whether tfms are applied during instantiation or on-the-fly. Default=True, which means that tfms will be applied during instantiation. This results in a faster training, but it can only be used when data fits in memory. Otherwise set it to False. \n",
    "* **shuffle_train:** indicates whether to shuffle the training set every time the dataloader is fully read/iterated or not. This doesn't have an impact on the validation set which is never shuffled. Default=True.\n",
    "* **drop_last:** if True the last incomplete training batch is dropped (thus ensuring training batches of equal size). This doesn't have an impact on the validation set where samples are never dropped. Default=True.\n",
    "* **num_workers:** num_workers (int): how many subprocesses to use for data loading. 0 means that the data will be loaded in the main process. Default=None. \n",
    "* **do_setup:** ndicates if the Pipeline.setup method should be called during initialization. Default=True.\n",
    "* **device:** Defaults to default_device() which is CUDA by default. You can specify device as `torch.device('cpu').\n",
    "* **seed:** Set to an int to ensure reprodubibility. Default=None.\n",
    "* **verbose:** controls the verbosity when fitting and predicting.\n",
    "* **exclude_head:** indicates whether the head of the pretrained model needs to be removed or not. Default=True.\n",
    "* **cut:** indicates the position where the pretrained model head needs to be cut. Defaults=-1.\n",
    "* **init:** allows you to set to None (no initialization applied), set to True (in which case nn.init.kaiming_normal_ will be applied) or pass an initialization. Default=None.\n",
    "* **splitter:** To do transfer learning, you need to pass a splitter to Learner. This should be a function taking the model and returning a collection of parameter groups, e.g. a list of list of parameters. Default=trainable_params. If the model has a backbone and a head, it will then be split in those 2 groups.\n",
    "* **path** and **model_dir:** are used to save and/or load models. Often path will be inferred from dls, but you can override it or pass a Path object to model_dir.\n",
    "* **wd_bn_bias:** controls if weight decay is applied to BatchNorm layers and bias. Default=False.\n",
    "train_bn=True\n",
    "* **moms:** the default momentums used in Learner.fit_one_cycle. Default=(0.95, 0.85, 0.95)."
   ]
  },
  {
   "cell_type": "code",
   "execution_count": null,
   "metadata": {},
   "outputs": [],
   "source": [
    "#|export\n",
    "class TSForecaster(Learner):\n",
    "    def __init__(self, X, y=None, splits=None, tfms=None, inplace=True, sel_vars=None, sel_steps=None,\n",
    "                 s_cat_idxs=None, s_cat_embeddings=None, s_cat_embedding_dims=None, s_cont_idxs=None,\n",
    "                 o_cat_idxs=None, o_cat_embeddings=None, o_cat_embedding_dims=None, o_cont_idxs=None,\n",
    "                 patch_len=None, patch_stride=None, fusion_layers=128, fusion_act='relu', fusion_dropout=0., fusion_use_bn=True,\n",
    "                 weights=None, partial_n=None,\n",
    "                 train_metrics=False, valid_metrics=True, bs=[64, 128], batch_size=None, batch_tfms=None, pipelines=None,\n",
    "                 shuffle_train=True, drop_last=True, num_workers=0, do_setup=True, device=None, seed=None,\n",
    "                 arch=None, arch_config={}, pretrained=False, weights_path=None, exclude_head=True, cut=-1, init=None,\n",
    "                 loss_func=None, opt_func=Adam, lr=0.001, metrics=None, cbs=None, wd=None, wd_bn_bias=False,\n",
    "                 train_bn=True, moms=(0.95, 0.85, 0.95),  path='.', model_dir='models', splitter=trainable_params, verbose=False):\n",
    "\n",
    "        # Seed\n",
    "        if seed is not None:\n",
    "            set_seed(seed, reproducible=True)\n",
    "\n",
    "        # Batch size\n",
    "        if batch_size is not None:\n",
    "            bs = batch_size\n",
    "\n",
    "        # DataLoaders\n",
    "        dls = get_ts_dls(X, y=y, splits=splits, sel_vars=sel_vars, sel_steps=sel_steps, tfms=tfms, inplace=inplace,\n",
    "                         path=path, bs=bs, batch_tfms=batch_tfms, num_workers=num_workers, weights=weights, partial_n=partial_n,\n",
    "                         device=device, shuffle_train=shuffle_train, drop_last=drop_last)\n",
    "\n",
    "        if loss_func is None:\n",
    "            if hasattr(dls, 'loss_func'): loss_func = dls.loss_func\n",
    "            elif hasattr(dls, 'cat') and not dls.cat: loss_func = MSELossFlat()\n",
    "            elif hasattr(dls, 'train_ds') and hasattr(dls.train_ds, 'loss_func'): loss_func = dls.train_ds.loss_func\n",
    "            else: loss_func = MSELossFlat()\n",
    "\n",
    "        # Model\n",
    "        if isinstance(arch, nn.Module):\n",
    "            model = arch\n",
    "            if arch_config:\n",
    "                warnings.warn(\"You have passed arch_config to a model that is already intantiated. It will not have any effect.\", UserWarning)\n",
    "            if init is not None:\n",
    "                warnings.warn(\"You have passed init to a model that is already intantiated. It will not have any effect.\", UserWarning)\n",
    "        else:\n",
    "            if init is True:\n",
    "                init = nn.init.kaiming_normal_\n",
    "            if arch is None:\n",
    "                arch = InceptionTimePlus\n",
    "            elif isinstance(arch, str): arch = get_arch(arch)\n",
    "            # if 'xresnet' in arch.__name__.lower() and not '1d' in arch.__name__.lower():\n",
    "            #     model = build_tsimage_model(arch, dls=dls, pretrained=pretrained, init=init, device=device, verbose=verbose, arch_config=arch_config)\n",
    "            # elif 'tabularmodel' in arch.__name__.lower():\n",
    "            #     model = build_tabular_model(arch, dls=dls, device=device, arch_config=arch_config)\n",
    "            # else:\n",
    "            #     model = build_ts_model(arch, dls=dls, device=device, verbose=verbose, pretrained=pretrained, weights_path=weights_path,\n",
    "            #                        exclude_head=exclude_head, cut=cut, init=init, arch_config=arch_config)\n",
    "            model = build_ts_model(arch, dls=dls,\n",
    "                                   s_cat_idxs=s_cat_idxs, s_cat_embeddings=s_cat_embeddings, s_cat_embedding_dims=s_cat_embedding_dims, s_cont_idxs=s_cont_idxs,\n",
    "                                   o_cat_idxs=o_cat_idxs, o_cat_embeddings=o_cat_embeddings, o_cat_embedding_dims=o_cat_embedding_dims, o_cont_idxs=o_cont_idxs,\n",
    "                                   patch_len=patch_len, patch_stride=patch_stride,\n",
    "                                   fusion_layers=fusion_layers, fusion_act=fusion_act, fusion_dropout=fusion_dropout, fusion_use_bn=fusion_use_bn,\n",
    "                                   device=device, verbose=verbose, pretrained=pretrained, weights_path=weights_path,\n",
    "                                   exclude_head=exclude_head, cut=cut, init=init, arch_config=arch_config)\n",
    "        try:\n",
    "            setattr(model, \"__name__\", arch.__name__)\n",
    "        except:\n",
    "            setattr(model, \"__name__\", arch.__class__.__name__)\n",
    "\n",
    "        if hasattr(model, \"backbone\") and hasattr(model, \"head\"):\n",
    "            splitter = ts_splitter\n",
    "\n",
    "        if pipelines is not None:\n",
    "            pipelines = listify(pipelines)\n",
    "        setattr(self, \"pipelines\", pipelines)\n",
    "\n",
    "        super().__init__(dls, model, loss_func=loss_func, opt_func=opt_func, lr=lr, cbs=cbs, metrics=metrics, path=path, splitter=splitter,\n",
    "                         model_dir=model_dir, wd=wd, wd_bn_bias=wd_bn_bias, train_bn=train_bn, moms=moms)\n",
    "\n",
    "        if hasattr(self, \"recorder\"):\n",
    "            self.recorder.train_metrics = train_metrics\n",
    "            if splits is None or not hasattr(splits[0], \"__len__\") or len(splits) == 1 or \\\n",
    "                (len(splits) >= 2 and (splits[1] is None or not hasattr(splits[1], \"__len__\"))):\n",
    "                self.recorder.valid_metrics = False\n",
    "            else:\n",
    "                self.recorder.valid_metrics = valid_metrics"
   ]
  },
  {
   "cell_type": "code",
   "execution_count": null,
   "metadata": {},
   "outputs": [],
   "source": [
    "from tsai.data.preparation import *"
   ]
  },
  {
   "cell_type": "code",
   "execution_count": null,
   "metadata": {},
   "outputs": [
    {
     "name": "stdout",
     "output_type": "stream",
     "text": [
      "Dataset: Sunspots\n",
      "downloading data...\n",
      "...done. Path = data/forecasting/Sunspots.csv\n"
     ]
    },
    {
     "data": {
      "image/png": "[encoded data removed]",
      "text/plain": [
       "<Figure size 1600x50 with 1 Axes>"
      ]
     },
     "metadata": {},
     "output_type": "display_data"
    },
    {
     "data": {
      "text/html": [
       "\n",
       "<style>\n",
       "    /* Turns off some styling */\n",
       "    progress {\n",
       "        /* gets rid of default border in Firefox and Opera. */\n",
       "        border: none;\n",
       "        /* Needs to be in here for Safari polyfill so background images work as expected. */\n",
       "        background-size: auto;\n",
       "    }\n",
       "    progress:not([value]), progress:not([value])::-webkit-progress-bar {\n",
       "        background: repeating-linear-gradient(45deg, #7e7e7e, #7e7e7e 10px, #5c5c5c 10px, #5c5c5c 20px);\n",
       "    }\n",
       "    .progress-bar-interrupted, .progress-bar-interrupted::-webkit-progress-bar {\n",
       "        background: #F44336;\n",
       "    }\n",
       "</style>\n"
      ],
      "text/plain": [
       "<IPython.core.display.HTML object>"
      ]
     },
     "metadata": {},
     "output_type": "display_data"
    },
    {
     "data": {
      "text/html": [
       "<table border=\"1\" class=\"dataframe\">\n",
       "  <thead>\n",
       "    <tr style=\"text-align: left;\">\n",
       "      <th>epoch</th>\n",
       "      <th>train_loss</th>\n",
       "      <th>train_mae</th>\n",
       "      <th>valid_loss</th>\n",
       "      <th>valid_mae</th>\n",
       "      <th>time</th>\n",
       "    </tr>\n",
       "  </thead>\n",
       "  <tbody>\n",
       "    <tr>\n",
       "      <td>0</td>\n",
       "      <td>4539.636719</td>\n",
       "      <td>50.971386</td>\n",
       "      <td>7981.193848</td>\n",
       "      <td>74.748787</td>\n",
       "      <td>00:01</td>\n",
       "    </tr>\n",
       "  </tbody>\n",
       "</table>"
      ],
      "text/plain": [
       "<IPython.core.display.HTML object>"
      ]
     },
     "metadata": {},
     "output_type": "display_data"
    }
   ],
   "source": [
    "ts = get_forecasting_time_series('Sunspots')\n",
    "if ts is not None: # This is to prevent a test fail when the data server is not available\n",
    "    X, y = SlidingWindowSplitter(60, horizon=1)(ts)\n",
    "    X, y = X.astype('float32'), y.astype('float32')\n",
    "    splits = TSSplitter(235)(y)\n",
    "    batch_tfms = [TSStandardize(by_var=True)]\n",
    "    learn = TSForecaster(X, y, splits=splits, batch_tfms=batch_tfms, arch=None, arch_config=dict(fc_dropout=.5), metrics=mae, bs=512,\n",
    "                         partial_n=.1, train_metrics=True, device=default_device())\n",
    "    learn.fit_one_cycle(1)"
   ]
  },
  {
   "cell_type": "code",
   "execution_count": null,
   "metadata": {},
   "outputs": [],
   "source": [
    "X=torch.rand(8,2,50)\n",
    "y=torch.rand(8,1)\n",
    "splits = TimeSplitter(show_plot=False)(y)\n",
    "\n",
    "fail_test = []\n",
    "for arch in all_arch_names:\n",
    "    if not \"plus\" in arch.lower(): continue\n",
    "    try:\n",
    "        fcst = TSForecaster(X, y, splits=splits, arch=arch, metrics=mse, device=default_device())\n",
    "        with ContextManagers([fcst.no_bar(), fcst.no_logging()]):\n",
    "            fcst.fit_one_cycle(1, 1e-3)\n",
    "    except Exception as e:\n",
    "        fail_test.append(arch)\n",
    "        print(arch, e)\n",
    "\n",
    "test_eq(fail_test, [])"
   ]
  },
  {
   "cell_type": "code",
   "execution_count": null,
   "metadata": {},
   "outputs": [
    {
     "data": {
      "application/javascript": "IPython.notebook.save_checkpoint();",
      "text/plain": [
       "<IPython.core.display.Javascript object>"
      ]
     },
     "metadata": {},
     "output_type": "display_data"
    },
    {
     "name": "stdout",
     "output_type": "stream",
     "text": [
      "/Users/nacho/notebooks/tsai/nbs/022_tslearner.ipynb saved at 2025-01-22 18:45:21\n",
      "Correct notebook to script conversion! 😃\n",
      "Wednesday 22/01/25 18:45:24 CET\n"
     ]
    },
    {
     "data": {
      "text/html": [
       "\n",
       "                <audio  controls=\"controls\" autoplay=\"autoplay\">\n",
       "                    <source src=\"data:audio/wav;base64,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\" type=\"audio/wav\" />\n",
       "                    Your browser does not support the audio element.\n",
       "                </audio>\n",
       "              "
      ],
      "text/plain": [
       "<IPython.lib.display.Audio object>"
      ]
     },
     "metadata": {},
     "output_type": "display_data"
    }
   ],
   "source": [
    "#|eval: false\n",
    "#|hide\n",
    "from tsai.export import get_nb_name; nb_name = get_nb_name(locals())\n",
    "from tsai.imports import create_scripts; create_scripts(nb_name)"
   ]
  },
  {
   "cell_type": "code",
   "execution_count": null,
   "metadata": {},
   "outputs": [],
   "source": []
  }
 ],
 "metadata": {
  "kernelspec": {
   "display_name": "python3",
   "language": "python",
   "name": "python3"
  }
 },
 "nbformat": 4,
 "nbformat_minor": 4
}
